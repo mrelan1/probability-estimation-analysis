{
 "cells": [
  {
   "cell_type": "code",
   "execution_count": 1,
   "id": "b43cff26",
   "metadata": {},
   "outputs": [
    {
     "name": "stdout",
     "output_type": "stream",
     "text": [
      "CWD: /Users/mihirrelan/Stuphorn/03_Fall2025/react-probability-task-data-analysis\n"
     ]
    }
   ],
   "source": [
    "# Run first in every notebook\n",
    "import os, sys, pathlib\n",
    "if pathlib.Path().resolve().name == \"notebooks\":\n",
    "    os.chdir(\"..\")                         # move CWD to project root\n",
    "sys.path.insert(0, os.path.abspath(\"src\")) # make `src/` importable\n",
    "print(\"CWD:\", os.getcwd())"
   ]
  },
  {
   "cell_type": "code",
   "execution_count": 2,
   "id": "f9fd6d3e",
   "metadata": {},
   "outputs": [
    {
     "name": "stdout",
     "output_type": "stream",
     "text": [
      "/Users/mihirrelan/Stuphorn/03_Fall2025/react-probability-task-data-analysis/.venv/bin/python\n"
     ]
    }
   ],
   "source": [
    "import sys; print(sys.executable)\n"
   ]
  },
  {
   "cell_type": "code",
   "execution_count": 3,
   "id": "7a09af90",
   "metadata": {},
   "outputs": [
    {
     "name": "stdout",
     "output_type": "stream",
     "text": [
      "SUMMARY: {'participants': 4, 'trials_total': 1780, 'trials_per_session': {'count': 4.0, 'mean': 445.0, 'std': 0.0, 'min': 445.0, '25%': 445.0, '50%': 445.0, '75%': 445.0, 'max': 445.0}, 'accuracy_overall': 0.8662921348314607, 'rt_ms_mean': 1286.9719101123596, 'rt_ms_median': 990.5, 'acc_by_p_bin': {Interval(-0.001, 0.1, closed='right'): 0.8125, Interval(0.1, 0.2, closed='right'): 0.8305084745762712, Interval(0.2, 0.3, closed='right'): 0.8491620111731844, Interval(0.3, 0.4, closed='right'): 0.8397790055248618, Interval(0.4, 0.5, closed='right'): 0.8813559322033898, Interval(0.5, 0.6, closed='right'): 0.8707865168539326, Interval(0.6, 0.7, closed='right'): 0.8876404494382022, Interval(0.7, 0.8, closed='right'): 0.8595505617977528, Interval(0.8, 0.9, closed='right'): 0.8813559322033898, Interval(0.9, 1.0, closed='right'): 0.9497206703910615}, 'rt_median_by_abs_delta': {Interval(-0.001, 0.05, closed='right'): 1340.5, Interval(0.05, 0.1, closed='right'): 1109.5, Interval(0.1, 0.2, closed='right'): 1113.0, Interval(0.2, 0.3, closed='right'): 1060.0, Interval(0.3, 0.4, closed='right'): 907.5, Interval(0.4, 0.5, closed='right'): 881.5, Interval(0.5, 1.0, closed='right'): 878.0}, 'acc_by_abs_delta': {Interval(-0.001, 0.05, closed='right'): 0.5308641975308642, Interval(0.05, 0.1, closed='right'): 0.756198347107438, Interval(0.1, 0.2, closed='right'): 0.8231046931407943, Interval(0.2, 0.3, closed='right'): 0.88268156424581, Interval(0.3, 0.4, closed='right'): 0.9260355029585798, Interval(0.4, 0.5, closed='right'): 0.9715909090909091, Interval(0.5, 1.0, closed='right'): 0.9926108374384236}}\n",
      "\n",
      "Friedman (RT med ~ |p−t|):\n",
      "{'ok': True, 'chi2': 17.285714285714278, 'p': 0.003988627134469754, 'n_subjects': 4, 'k_levels': 6, 'kendalls_W': 0.8642857142857139, 'levels': ['(-0.001, 0.05]', '(0.05, 0.1]', '(0.1, 0.2]', '(0.2, 0.3]', '(0.3, 0.5]', '(0.5, 1.0]']}\n",
      "\n",
      "Friedman (Accuracy ~ |p−t|):\n",
      "{'ok': True, 'chi2': 20.0, 'p': 0.0012497305630313773, 'n_subjects': 4, 'k_levels': 6, 'kendalls_W': 1.0, 'levels': ['(-0.001, 0.05]', '(0.05, 0.1]', '(0.1, 0.2]', '(0.2, 0.3]', '(0.3, 0.5]', '(0.5, 1.0]']}\n",
      "\n",
      "Pairwise Wilcoxon (RT):\n",
      "\n",
      "Pairwise Wilcoxon (Acc):\n"
     ]
    },
    {
     "name": "stderr",
     "output_type": "stream",
     "text": [
      "/Users/mihirrelan/Stuphorn/03_Fall2025/react-probability-task-data-analysis/src/fetch_data.py:21: FutureWarning: The default of observed=False is deprecated and will be changed to True in a future version of pandas. Pass observed=False to retain current behavior or observed=True to adopt the future default and silence this warning.\n",
      "  out[\"acc_by_p_bin\"] = df.groupby(pbin)[\"correct_int\"].mean().to_dict()\n",
      "/Users/mihirrelan/Stuphorn/03_Fall2025/react-probability-task-data-analysis/src/fetch_data.py:23: FutureWarning: The default of observed=False is deprecated and will be changed to True in a future version of pandas. Pass observed=False to retain current behavior or observed=True to adopt the future default and silence this warning.\n",
      "  out[\"rt_median_by_abs_delta\"] = df.groupby(dbin)[\"rt\"].median().to_dict()\n",
      "/Users/mihirrelan/Stuphorn/03_Fall2025/react-probability-task-data-analysis/src/fetch_data.py:24: FutureWarning: The default of observed=False is deprecated and will be changed to True in a future version of pandas. Pass observed=False to retain current behavior or observed=True to adopt the future default and silence this warning.\n",
      "  out[\"acc_by_abs_delta\"] = df.groupby(dbin)[\"correct_int\"].mean().to_dict()\n",
      "/Users/mihirrelan/Stuphorn/03_Fall2025/react-probability-task-data-analysis/src/stats.py:28: FutureWarning: The default of observed=False is deprecated and will be changed to True in a future version of pandas. Pass observed=False to retain current behavior or observed=True to adopt the future default and silence this warning.\n",
      "  g = d.groupby([participant_col, \"abs_delta_bin\"])\n"
     ]
    },
    {
     "data": {
      "text/html": [
       "<div>\n",
       "<style scoped>\n",
       "    .dataframe tbody tr th:only-of-type {\n",
       "        vertical-align: middle;\n",
       "    }\n",
       "\n",
       "    .dataframe tbody tr th {\n",
       "        vertical-align: top;\n",
       "    }\n",
       "\n",
       "    .dataframe thead th {\n",
       "        text-align: right;\n",
       "    }\n",
       "</style>\n",
       "<table border=\"1\" class=\"dataframe\">\n",
       "  <thead>\n",
       "    <tr style=\"text-align: right;\">\n",
       "      <th></th>\n",
       "      <th>participantId</th>\n",
       "      <th>n</th>\n",
       "      <th>m1_nll</th>\n",
       "      <th>m1_aic</th>\n",
       "      <th>m1_bic</th>\n",
       "      <th>m1_kappa</th>\n",
       "      <th>m1_bias</th>\n",
       "      <th>m1_lapse</th>\n",
       "      <th>m2_nll</th>\n",
       "      <th>m2_aic</th>\n",
       "      <th>m2_bic</th>\n",
       "      <th>m2_alpha</th>\n",
       "      <th>m2_beta</th>\n",
       "      <th>m2_kappa</th>\n",
       "      <th>m2_bias</th>\n",
       "      <th>m2_lapse</th>\n",
       "      <th>dAIC</th>\n",
       "      <th>dBIC</th>\n",
       "    </tr>\n",
       "  </thead>\n",
       "  <tbody>\n",
       "    <tr>\n",
       "      <th>0</th>\n",
       "      <td>(44ab8d9a-01ff-4cb3-8676-c933a77b7207,)</td>\n",
       "      <td>445</td>\n",
       "      <td>87.945268</td>\n",
       "      <td>181.890535</td>\n",
       "      <td>194.184758</td>\n",
       "      <td>14.018485</td>\n",
       "      <td>-0.296418</td>\n",
       "      <td>0.000000</td>\n",
       "      <td>84.414270</td>\n",
       "      <td>178.828541</td>\n",
       "      <td>199.318912</td>\n",
       "      <td>0.871740</td>\n",
       "      <td>0.822841</td>\n",
       "      <td>15.122104</td>\n",
       "      <td>-0.947032</td>\n",
       "      <td>0.0</td>\n",
       "      <td>3.061995</td>\n",
       "      <td>-5.134154</td>\n",
       "    </tr>\n",
       "    <tr>\n",
       "      <th>1</th>\n",
       "      <td>(696e0e3f-da68-4178-8d5b-43ea5aaefadd,)</td>\n",
       "      <td>445</td>\n",
       "      <td>144.512040</td>\n",
       "      <td>295.024080</td>\n",
       "      <td>307.318303</td>\n",
       "      <td>7.656729</td>\n",
       "      <td>0.001113</td>\n",
       "      <td>0.000000</td>\n",
       "      <td>139.889874</td>\n",
       "      <td>289.779748</td>\n",
       "      <td>310.270120</td>\n",
       "      <td>0.704488</td>\n",
       "      <td>0.903451</td>\n",
       "      <td>8.438204</td>\n",
       "      <td>-0.042536</td>\n",
       "      <td>0.0</td>\n",
       "      <td>5.244331</td>\n",
       "      <td>-2.951817</td>\n",
       "    </tr>\n",
       "    <tr>\n",
       "      <th>2</th>\n",
       "      <td>(7a85d59e-1e5c-4d1d-8dc1-5c866967a30f,)</td>\n",
       "      <td>445</td>\n",
       "      <td>139.346292</td>\n",
       "      <td>284.692585</td>\n",
       "      <td>296.986808</td>\n",
       "      <td>8.018862</td>\n",
       "      <td>0.170290</td>\n",
       "      <td>0.000000</td>\n",
       "      <td>129.295119</td>\n",
       "      <td>268.590238</td>\n",
       "      <td>289.080609</td>\n",
       "      <td>0.792101</td>\n",
       "      <td>0.600161</td>\n",
       "      <td>9.571984</td>\n",
       "      <td>-0.954614</td>\n",
       "      <td>0.0</td>\n",
       "      <td>16.102347</td>\n",
       "      <td>7.906199</td>\n",
       "    </tr>\n",
       "    <tr>\n",
       "      <th>3</th>\n",
       "      <td>(abbf0f48-70cd-4589-8b1f-6570cee03296,)</td>\n",
       "      <td>445</td>\n",
       "      <td>176.473361</td>\n",
       "      <td>358.946723</td>\n",
       "      <td>371.240946</td>\n",
       "      <td>5.764074</td>\n",
       "      <td>0.035259</td>\n",
       "      <td>0.007562</td>\n",
       "      <td>165.225614</td>\n",
       "      <td>340.451228</td>\n",
       "      <td>360.941599</td>\n",
       "      <td>0.515345</td>\n",
       "      <td>0.780760</td>\n",
       "      <td>6.937296</td>\n",
       "      <td>-0.143841</td>\n",
       "      <td>0.0</td>\n",
       "      <td>18.495495</td>\n",
       "      <td>10.299347</td>\n",
       "    </tr>\n",
       "  </tbody>\n",
       "</table>\n",
       "</div>"
      ],
      "text/plain": [
       "                             participantId    n      m1_nll      m1_aic  \\\n",
       "0  (44ab8d9a-01ff-4cb3-8676-c933a77b7207,)  445   87.945268  181.890535   \n",
       "1  (696e0e3f-da68-4178-8d5b-43ea5aaefadd,)  445  144.512040  295.024080   \n",
       "2  (7a85d59e-1e5c-4d1d-8dc1-5c866967a30f,)  445  139.346292  284.692585   \n",
       "3  (abbf0f48-70cd-4589-8b1f-6570cee03296,)  445  176.473361  358.946723   \n",
       "\n",
       "       m1_bic   m1_kappa   m1_bias  m1_lapse      m2_nll      m2_aic  \\\n",
       "0  194.184758  14.018485 -0.296418  0.000000   84.414270  178.828541   \n",
       "1  307.318303   7.656729  0.001113  0.000000  139.889874  289.779748   \n",
       "2  296.986808   8.018862  0.170290  0.000000  129.295119  268.590238   \n",
       "3  371.240946   5.764074  0.035259  0.007562  165.225614  340.451228   \n",
       "\n",
       "       m2_bic  m2_alpha   m2_beta   m2_kappa   m2_bias  m2_lapse       dAIC  \\\n",
       "0  199.318912  0.871740  0.822841  15.122104 -0.947032       0.0   3.061995   \n",
       "1  310.270120  0.704488  0.903451   8.438204 -0.042536       0.0   5.244331   \n",
       "2  289.080609  0.792101  0.600161   9.571984 -0.954614       0.0  16.102347   \n",
       "3  360.941599  0.515345  0.780760   6.937296 -0.143841       0.0  18.495495   \n",
       "\n",
       "        dBIC  \n",
       "0  -5.134154  \n",
       "1  -2.951817  \n",
       "2   7.906199  \n",
       "3  10.299347  "
      ]
     },
     "execution_count": 3,
     "metadata": {},
     "output_type": "execute_result"
    }
   ],
   "source": [
    "from src.fetch_data import load_cleaned_trials, summarize\n",
    "from src.stats import aggregate_by_abs_delta_bins, friedman_test, pairwise_wilcoxon_holm\n",
    "from src.bayesian_posterior import fit_models_by_participant\n",
    "\n",
    "CLEANED = \"data/exports/trials_20250811T043446Z_cleaned.csv\"\n",
    "df = load_cleaned_trials(CLEANED)\n",
    "\n",
    "print(\"SUMMARY:\", summarize(df))\n",
    "\n",
    "agg = aggregate_by_abs_delta_bins(df)\n",
    "\n",
    "print(\"\\nFriedman (RT med ~ |p−t|):\")\n",
    "print(friedman_test(agg, dv_col=\"rt_med\"))\n",
    "\n",
    "print(\"\\nFriedman (Accuracy ~ |p−t|):\")\n",
    "print(friedman_test(agg, dv_col=\"acc_mean\"))\n",
    "\n",
    "print(\"\\nPairwise Wilcoxon (RT):\")\n",
    "pairwise_rt = pairwise_wilcoxon_holm(agg, dv_col=\"rt_med\"); pairwise_rt.head()\n",
    "\n",
    "print(\"\\nPairwise Wilcoxon (Acc):\")\n",
    "pairwise_acc = pairwise_wilcoxon_holm(agg, dv_col=\"acc_mean\"); pairwise_acc.head()\n",
    "\n",
    "fits = fit_models_by_participant(df)\n",
    "fits"
   ]
  },
  {
   "cell_type": "code",
   "execution_count": 5,
   "id": "d4e87f19",
   "metadata": {},
   "outputs": [
    {
     "name": "stdout",
     "output_type": "stream",
     "text": [
      "Friedman RT: {'ok': True, 'chi2': 17.285714285714278, 'p': 0.003988627134469754, 'n_subjects': 4, 'k_levels': 6, 'kendalls_W': 0.8642857142857139, 'levels': ['(-0.001, 0.05]', '(0.05, 0.1]', '(0.1, 0.2]', '(0.2, 0.3]', '(0.3, 0.5]', '(0.5, 1.0]']}\n",
      "Friedman Acc: {'ok': True, 'chi2': 20.0, 'p': 0.0012497305630313773, 'n_subjects': 4, 'k_levels': 6, 'kendalls_W': 1.0, 'levels': ['(-0.001, 0.05]', '(0.05, 0.1]', '(0.1, 0.2]', '(0.2, 0.3]', '(0.3, 0.5]', '(0.5, 1.0]']}\n"
     ]
    },
    {
     "name": "stderr",
     "output_type": "stream",
     "text": [
      "/Users/mihirrelan/Stuphorn/03_Fall2025/react-probability-task-data-analysis/src/stats.py:28: FutureWarning: The default of observed=False is deprecated and will be changed to True in a future version of pandas. Pass observed=False to retain current behavior or observed=True to adopt the future default and silence this warning.\n",
      "  g = d.groupby([participant_col, \"abs_delta_bin\"])\n"
     ]
    },
    {
     "data": {
      "text/plain": [
       "(          level_i      level_j  stat  p_raw  p_holm\n",
       " 0  (-0.001, 0.05]  (0.05, 0.1]   0.0  0.125     1.0\n",
       " 1  (-0.001, 0.05]   (0.1, 0.2]   0.0  0.125     1.0\n",
       " 2  (-0.001, 0.05]   (0.2, 0.3]   0.0  0.125     1.0\n",
       " 3  (-0.001, 0.05]   (0.3, 0.5]   0.0  0.125     1.0\n",
       " 4  (-0.001, 0.05]   (0.5, 1.0]   0.0  0.125     1.0,\n",
       "           level_i      level_j  stat  p_raw  p_holm\n",
       " 0  (-0.001, 0.05]  (0.05, 0.1]   0.0  0.125     1.0\n",
       " 1  (-0.001, 0.05]   (0.1, 0.2]   0.0  0.125     1.0\n",
       " 2  (-0.001, 0.05]   (0.2, 0.3]   0.0  0.125     1.0\n",
       " 3  (-0.001, 0.05]   (0.3, 0.5]   0.0  0.125     1.0\n",
       " 4  (-0.001, 0.05]   (0.5, 1.0]   0.0  0.125     1.0)"
      ]
     },
     "execution_count": 5,
     "metadata": {},
     "output_type": "execute_result"
    }
   ],
   "source": [
    "from src.stats import aggregate_by_abs_delta_bins, friedman_test, pairwise_wilcoxon_holm\n",
    "\n",
    "# Aggregate once\n",
    "agg = aggregate_by_abs_delta_bins(df)\n",
    "\n",
    "# Friedman tests (store -> then print)\n",
    "friedman_rt  = friedman_test(agg, dv_col=\"rt_med\")\n",
    "friedman_acc = friedman_test(agg, dv_col=\"acc_mean\")\n",
    "print(\"Friedman RT:\", friedman_rt)\n",
    "print(\"Friedman Acc:\", friedman_acc)\n",
    "\n",
    "# Pairwise Wilcoxon with Holm correction (may be empty if not enough complete pairs)\n",
    "pairwise_rt  = pairwise_wilcoxon_holm(agg, dv_col=\"rt_med\")\n",
    "pairwise_acc = pairwise_wilcoxon_holm(agg, dv_col=\"acc_mean\")\n",
    "\n",
    "# Save and peek\n",
    "pairwise_rt.to_csv(\"data/derived/posthoc_rt.csv\", index=False)\n",
    "pairwise_acc.to_csv(\"data/derived/posthoc_acc.csv\", index=False)\n",
    "pairwise_rt.head(), pairwise_acc.head()\n"
   ]
  }
 ],
 "metadata": {
  "kernelspec": {
   "display_name": ".venv",
   "language": "python",
   "name": "python3"
  },
  "language_info": {
   "codemirror_mode": {
    "name": "ipython",
    "version": 3
   },
   "file_extension": ".py",
   "mimetype": "text/x-python",
   "name": "python",
   "nbconvert_exporter": "python",
   "pygments_lexer": "ipython3",
   "version": "3.11.13"
  }
 },
 "nbformat": 4,
 "nbformat_minor": 5
}
